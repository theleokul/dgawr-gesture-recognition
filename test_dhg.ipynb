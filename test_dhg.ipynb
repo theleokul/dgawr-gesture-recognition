{
 "cells": [
  {
   "cell_type": "code",
   "execution_count": 5,
   "id": "5d4a867c",
   "metadata": {},
   "outputs": [],
   "source": [
    "from PIL import Image\n",
    "import cv2\n",
    "import numpy as np"
   ]
  },
  {
   "cell_type": "code",
   "execution_count": 31,
   "id": "1abe9472",
   "metadata": {},
   "outputs": [],
   "source": [
    "root = '/home/l.kulikov/datasets/dataset_dhg1428/gesture_1/finger_1/subject_5/essai_2/'\n",
    "gen_info = root + 'general_information.txt'\n",
    "sk_world = root + 'skeleton_world.txt'\n",
    "sk_image = root + 'skeleton_image.txt'\n",
    "depth = root + 'depth_1.png'\n",
    "\n",
    "\n",
    "gen_info = np.loadtxt(gen_info)\n",
    "sk_image = np.loadtxt(sk_image)\n",
    "sk_world = np.loadtxt(sk_world)\n",
    "depth = cv2.imread(depth) # Image.open(depth).convert('L')  #cv2.imread(depth)\n",
    "# depth = (depth.astype(float) / depth.max() * 255).clip(0, 255)\n",
    "# depth = depth.astype(np.uint8)"
   ]
  },
  {
   "cell_type": "code",
   "execution_count": null,
   "id": "88c4a12d",
   "metadata": {},
   "outputs": [],
   "source": []
  },
  {
   "cell_type": "code",
   "execution_count": 32,
   "id": "a3c356a8",
   "metadata": {},
   "outputs": [
    {
     "data": {
      "text/plain": [
       "(414.0, 338.0)"
      ]
     },
     "execution_count": 32,
     "metadata": {},
     "output_type": "execute_result"
    }
   ],
   "source": [
    "height_max, width_max = 0, 0\n",
    "for gi in gen_info:\n",
    "    width, height = gi[-2:]\n",
    "    \n",
    "    if width > width_max:\n",
    "        width_max = width\n",
    "        \n",
    "    if height > height_max:\n",
    "        height_max = height\n",
    "        \n",
    "height_max, width_max"
   ]
  },
  {
   "cell_type": "code",
   "execution_count": null,
   "id": "dbfcd20f",
   "metadata": {},
   "outputs": [],
   "source": []
  },
  {
   "cell_type": "code",
   "execution_count": null,
   "id": "3460af31",
   "metadata": {},
   "outputs": [],
   "source": []
  },
  {
   "cell_type": "code",
   "execution_count": 3,
   "id": "1248b7cb",
   "metadata": {},
   "outputs": [
    {
     "data": {
      "text/plain": [
       "array([2, 2, 2, ..., 1, 1, 1], dtype=uint8)"
      ]
     },
     "execution_count": 3,
     "metadata": {},
     "output_type": "execute_result"
    }
   ],
   "source": [
    "depth[np.nonzero(depth)]"
   ]
  },
  {
   "cell_type": "code",
   "execution_count": 238,
   "id": "30697602",
   "metadata": {},
   "outputs": [
    {
     "data": {
      "text/plain": [
       "array([1, 1, 1], dtype=uint8)"
      ]
     },
     "execution_count": 238,
     "metadata": {},
     "output_type": "execute_result"
    }
   ],
   "source": [
    "depth[401, 421]"
   ]
  },
  {
   "cell_type": "code",
   "execution_count": 17,
   "id": "edb26fcd",
   "metadata": {},
   "outputs": [
    {
     "data": {
      "text/plain": [
       "array([426., 475., 427., 417., 402., 460., 366., 424., 337., 394., 323.,\n",
       "       370., 397., 363., 389., 312., 386., 287., 383., 268., 428., 366.,\n",
       "       429., 309., 430., 278., 432., 261., 454., 374., 463., 322., 467.,\n",
       "       297., 473., 274., 485., 394., 509., 354., 520., 336., 529., 326.])"
      ]
     },
     "execution_count": 17,
     "metadata": {},
     "output_type": "execute_result"
    }
   ],
   "source": [
    "sk_image[0]"
   ]
  },
  {
   "cell_type": "code",
   "execution_count": 3,
   "id": "499dfba4",
   "metadata": {},
   "outputs": [
    {
     "data": {
      "text/plain": [
       "(71, 5)"
      ]
     },
     "execution_count": 3,
     "metadata": {},
     "output_type": "execute_result"
    }
   ],
   "source": [
    "gen_info.shape"
   ]
  },
  {
   "cell_type": "code",
   "execution_count": 4,
   "id": "f0d9552f",
   "metadata": {},
   "outputs": [
    {
     "data": {
      "text/plain": [
       "((480, 640), dtype('uint8'), 0, 255)"
      ]
     },
     "execution_count": 4,
     "metadata": {},
     "output_type": "execute_result"
    }
   ],
   "source": [
    "depth.shape, depth.dtype, depth.min(), depth.max()"
   ]
  },
  {
   "cell_type": "code",
   "execution_count": 5,
   "id": "ceb64ee0",
   "metadata": {},
   "outputs": [
    {
     "data": {
      "image/png": "[encoded data removed]",
      "text/plain": [
       "<PIL.Image.Image image mode=L size=640x480 at 0x7F9E2F2E6AF0>"
      ]
     },
     "execution_count": 5,
     "metadata": {},
     "output_type": "execute_result"
    }
   ],
   "source": [
    "Image.fromarray(depth)"
   ]
  },
  {
   "cell_type": "code",
   "execution_count": 6,
   "id": "1aed1025",
   "metadata": {},
   "outputs": [
    {
     "data": {
      "text/plain": [
       "array([  0., 310., 256., 222., 220.])"
      ]
     },
     "execution_count": 6,
     "metadata": {},
     "output_type": "execute_result"
    }
   ],
   "source": [
    "gen_info[0]"
   ]
  },
  {
   "cell_type": "code",
   "execution_count": 13,
   "id": "6dd51f60",
   "metadata": {},
   "outputs": [
    {
     "data": {
      "text/plain": [
       "(222, 220)"
      ]
     },
     "execution_count": 13,
     "metadata": {},
     "output_type": "execute_result"
    }
   ],
   "source": [
    "x, y, width, height = gen_info[0][1:].astype(int)\n",
    "width, height"
   ]
  },
  {
   "cell_type": "code",
   "execution_count": 11,
   "id": "d875eea3",
   "metadata": {},
   "outputs": [],
   "source": [
    "depth_crop = depth[y : y + height, x : x + width]\n",
    "depth_crop[depth_crop == 0] = 255"
   ]
  },
  {
   "cell_type": "code",
   "execution_count": 18,
   "id": "aeaae86c",
   "metadata": {},
   "outputs": [],
   "source": [
    "depth_crop = np.repeat(depth_crop[:, :, None], 3, axis=2)"
   ]
  },
  {
   "cell_type": "code",
   "execution_count": 20,
   "id": "f9c73533",
   "metadata": {},
   "outputs": [
    {
     "data": {
      "text/plain": [
       "(220, 222, 3)"
      ]
     },
     "execution_count": 20,
     "metadata": {},
     "output_type": "execute_result"
    }
   ],
   "source": [
    "depth_crop"
   ]
  },
  {
   "cell_type": "code",
   "execution_count": 21,
   "id": "70fcd588",
   "metadata": {},
   "outputs": [],
   "source": [
    "sk_image[0][::2] = sk_image[0][::2] - x"
   ]
  },
  {
   "cell_type": "code",
   "execution_count": 22,
   "id": "060188f9",
   "metadata": {},
   "outputs": [
    {
     "data": {
      "text/plain": [
       "array([116., 475., 117., 417.,  92., 460.,  56., 424.,  27., 394.,  13.,\n",
       "       370.,  87., 363.,  79., 312.,  76., 287.,  73., 268., 118., 366.,\n",
       "       119., 309., 120., 278., 122., 261., 144., 374., 153., 322., 157.,\n",
       "       297., 163., 274., 175., 394., 199., 354., 210., 336., 219., 326.])"
      ]
     },
     "execution_count": 22,
     "metadata": {},
     "output_type": "execute_result"
    }
   ],
   "source": [
    "sk_image[0]"
   ]
  },
  {
   "cell_type": "code",
   "execution_count": 23,
   "id": "980d233f",
   "metadata": {},
   "outputs": [],
   "source": [
    "sk_image[0][1::2] = sk_image[0][1::2] - y"
   ]
  },
  {
   "cell_type": "code",
   "execution_count": 27,
   "id": "6febf5ce",
   "metadata": {},
   "outputs": [],
   "source": [
    "sk_image = sk_image.astype(int)"
   ]
  },
  {
   "cell_type": "code",
   "execution_count": 32,
   "id": "fae0be7e",
   "metadata": {},
   "outputs": [],
   "source": [
    "for i in range(0, 44, 2):\n",
    "    depth_crop[sk_image[0][i + 1] - 5 : sk_image[0][i + 1] + 5, sk_image[0][i] - 5 : sk_image[0][i] + 5] = np.array([255, 0, 0])"
   ]
  },
  {
   "cell_type": "code",
   "execution_count": 222,
   "id": "e00f4cf4",
   "metadata": {},
   "outputs": [
    {
     "data": {
      "image/png": "[encoded data removed]",
      "text/plain": [
       "<PIL.Image.Image image mode=RGB size=256x256 at 0x7F9DEC5CD550>"
      ]
     },
     "execution_count": 222,
     "metadata": {},
     "output_type": "execute_result"
    }
   ],
   "source": [
    "Image.fromarray(depth_crop).resize((256, 256))"
   ]
  },
  {
   "cell_type": "code",
   "execution_count": 224,
   "id": "ce733521",
   "metadata": {},
   "outputs": [
    {
     "data": {
      "text/plain": [
       "array([85, 85, 85], dtype=uint8)"
      ]
     },
     "execution_count": 224,
     "metadata": {},
     "output_type": "execute_result"
    }
   ],
   "source": [
    "depth_crop[110, 110]"
   ]
  },
  {
   "cell_type": "code",
   "execution_count": 226,
   "id": "2ff5e4c9",
   "metadata": {},
   "outputs": [
    {
     "data": {
      "text/plain": [
       "array([ 0.35045181, -0.37298209,  0.361962  ])"
      ]
     },
     "execution_count": 226,
     "metadata": {},
     "output_type": "execute_result"
    }
   ],
   "source": [
    "sk_world[0][:3]"
   ]
  },
  {
   "cell_type": "code",
   "execution_count": null,
   "id": "b7726c9e",
   "metadata": {},
   "outputs": [],
   "source": []
  },
  {
   "cell_type": "code",
   "execution_count": null,
   "id": "ea7365da",
   "metadata": {},
   "outputs": [],
   "source": []
  },
  {
   "cell_type": "code",
   "execution_count": null,
   "id": "1b9f6e26",
   "metadata": {},
   "outputs": [],
   "source": []
  },
  {
   "cell_type": "code",
   "execution_count": null,
   "id": "47624138",
   "metadata": {},
   "outputs": [],
   "source": []
  },
  {
   "cell_type": "code",
   "execution_count": 34,
   "id": "73bf3507",
   "metadata": {},
   "outputs": [],
   "source": [
    "cp = '/home/l.kulikov/dev/AWR-Adaptive-Weighting-Regression/data/nyu/center_train_refined.txt'\n",
    "cp = np.loadtxt(cp)"
   ]
  },
  {
   "cell_type": "code",
   "execution_count": 35,
   "id": "379af73b",
   "metadata": {},
   "outputs": [
    {
     "data": {
      "text/plain": [
       "(72757, 3)"
      ]
     },
     "execution_count": 35,
     "metadata": {},
     "output_type": "execute_result"
    }
   ],
   "source": [
    "cp.shape"
   ]
  },
  {
   "cell_type": "code",
   "execution_count": 36,
   "id": "526ec943",
   "metadata": {},
   "outputs": [],
   "source": [
    "data_path = '/home/l.kulikov/dev/AWR-Adaptive-Weighting-Regression/data/nyu/train'"
   ]
  },
  {
   "cell_type": "code",
   "execution_count": 37,
   "id": "581c78a2",
   "metadata": {},
   "outputs": [],
   "source": [
    "def uvd2xyz(pts, paras, flip=1):\n",
    "    # paras: (fx, fy, fu, fv)\n",
    "    pts_xyz = pts.copy()\n",
    "    pts_xyz = pts_xyz.reshape(-1, 3)\n",
    "    pts_xyz[:, :2] = (pts_xyz[:, :2] - paras[2:]) * pts_xyz[:, 2:] / paras[:2]\n",
    "    pts_xyz[:, 1] *= flip\n",
    "\n",
    "    return pts_xyz.reshape(pts.shape).astype(np.float32)"
   ]
  },
  {
   "cell_type": "code",
   "execution_count": 204,
   "id": "ba33cbec",
   "metadata": {},
   "outputs": [
    {
     "data": {
      "text/plain": [
       "(71, 66)"
      ]
     },
     "execution_count": 204,
     "metadata": {},
     "output_type": "execute_result"
    }
   ],
   "source": [
    "sk_world.shape"
   ]
  },
  {
   "cell_type": "code",
   "execution_count": 43,
   "id": "f675f3d8",
   "metadata": {},
   "outputs": [
    {
     "data": {
      "text/plain": [
       "(array([ 0.35045181, -0.37298209,  0.361962  ]), array([426., 475., 427.]))"
      ]
     },
     "execution_count": 43,
     "metadata": {},
     "output_type": "execute_result"
    }
   ],
   "source": [
    "sk_world[0, :3], sk_image[0, :3]"
   ]
  },
  {
   "cell_type": "code",
   "execution_count": 218,
   "id": "62080ede",
   "metadata": {},
   "outputs": [],
   "source": [
    "paras = (588.03, 587.07, 320., 240.)\n",
    "# paras = (322.3, 322.3, 320., 240.)"
   ]
  },
  {
   "cell_type": "code",
   "execution_count": 219,
   "id": "1baf6b2a",
   "metadata": {},
   "outputs": [
    {
     "name": "stdout",
     "output_type": "stream",
     "text": [
      "[ 0.34619334 -0.37191132  0.359627  ]\n"
     ]
    },
    {
     "data": {
      "text/plain": [
       "array([ 0.7498937, -1.7116868,  4.24     ], dtype=float32)"
      ]
     },
     "execution_count": 219,
     "metadata": {},
     "output_type": "execute_result"
    }
   ],
   "source": [
    "print(sk_world[3, :3])\n",
    "uvd2xyz(sk_image[3, :3], paras, -1) / 100"
   ]
  },
  {
   "cell_type": "code",
   "execution_count": 199,
   "id": "2f7c00a4",
   "metadata": {},
   "outputs": [
    {
     "data": {
      "text/plain": [
       "array([426., 475., 427.])"
      ]
     },
     "execution_count": 199,
     "metadata": {},
     "output_type": "execute_result"
    }
   ],
   "source": [
    "uvd = sk_image[0, :3]  # px, px, mm\n",
    "uvd"
   ]
  },
  {
   "cell_type": "code",
   "execution_count": null,
   "id": "7b71d156",
   "metadata": {},
   "outputs": [],
   "source": []
  }
 ],
 "metadata": {
  "kernelspec": {
   "display_name": "Python 3 (ipykernel)",
   "language": "python",
   "name": "python3"
  },
  "language_info": {
   "codemirror_mode": {
    "name": "ipython",
    "version": 3
   },
   "file_extension": ".py",
   "mimetype": "text/x-python",
   "name": "python",
   "nbconvert_exporter": "python",
   "pygments_lexer": "ipython3",
   "version": "3.8.0"
  }
 },
 "nbformat": 4,
 "nbformat_minor": 5
}
